{
  "cells": [
    {
      "cell_type": "code",
      "source": [
        "!pip install PyPDF2 google-cloud-aiplatform google-cloud-storage"
      ],
      "metadata": {
        "colab": {
          "base_uri": "https://localhost:8080/"
        },
        "id": "Uqj3JnwjHqvO",
        "executionInfo": {
          "status": "ok",
          "timestamp": 1726411344081,
          "user_tz": -180,
          "elapsed": 3860,
          "user": {
            "displayName": "",
            "userId": ""
          }
        },
        "outputId": "72d5806b-1c90-4a62-c18e-4e82efb8c934"
      },
      "id": "Uqj3JnwjHqvO",
      "execution_count": 63,
      "outputs": [
        {
          "output_type": "stream",
          "name": "stdout",
          "text": [
            "Requirement already satisfied: PyPDF2 in /usr/local/lib/python3.10/dist-packages (3.0.1)\n",
            "Requirement already satisfied: google-cloud-aiplatform in /usr/local/lib/python3.10/dist-packages (1.64.0)\n",
            "Requirement already satisfied: google-cloud-storage in /usr/local/lib/python3.10/dist-packages (2.8.0)\n",
            "Requirement already satisfied: google-api-core!=2.0.*,!=2.1.*,!=2.2.*,!=2.3.*,!=2.4.*,!=2.5.*,!=2.6.*,!=2.7.*,<3.0.0dev,>=1.34.1 in /usr/local/lib/python3.10/dist-packages (from google-api-core[grpc]!=2.0.*,!=2.1.*,!=2.2.*,!=2.3.*,!=2.4.*,!=2.5.*,!=2.6.*,!=2.7.*,<3.0.0dev,>=1.34.1->google-cloud-aiplatform) (2.19.2)\n",
            "Requirement already satisfied: google-auth<3.0.0dev,>=2.14.1 in /usr/local/lib/python3.10/dist-packages (from google-cloud-aiplatform) (2.27.0)\n",
            "Requirement already satisfied: proto-plus<2.0.0dev,>=1.22.3 in /usr/local/lib/python3.10/dist-packages (from google-cloud-aiplatform) (1.24.0)\n",
            "Requirement already satisfied: protobuf!=4.21.0,!=4.21.1,!=4.21.2,!=4.21.3,!=4.21.4,!=4.21.5,<6.0.0dev,>=3.20.2 in /usr/local/lib/python3.10/dist-packages (from google-cloud-aiplatform) (3.20.3)\n",
            "Requirement already satisfied: packaging>=14.3 in /usr/local/lib/python3.10/dist-packages (from google-cloud-aiplatform) (24.1)\n",
            "Requirement already satisfied: google-cloud-bigquery!=3.20.0,<4.0.0dev,>=1.15.0 in /usr/local/lib/python3.10/dist-packages (from google-cloud-aiplatform) (3.25.0)\n",
            "Requirement already satisfied: google-cloud-resource-manager<3.0.0dev,>=1.3.3 in /usr/local/lib/python3.10/dist-packages (from google-cloud-aiplatform) (1.12.5)\n",
            "Requirement already satisfied: shapely<3.0.0dev in /usr/local/lib/python3.10/dist-packages (from google-cloud-aiplatform) (2.0.6)\n",
            "Requirement already satisfied: pydantic<3 in /usr/local/lib/python3.10/dist-packages (from google-cloud-aiplatform) (1.10.18)\n",
            "Requirement already satisfied: docstring-parser<1 in /usr/local/lib/python3.10/dist-packages (from google-cloud-aiplatform) (0.16)\n",
            "Requirement already satisfied: google-cloud-core<3.0dev,>=2.3.0 in /usr/local/lib/python3.10/dist-packages (from google-cloud-storage) (2.4.1)\n",
            "Requirement already satisfied: google-resumable-media>=2.3.2 in /usr/local/lib/python3.10/dist-packages (from google-cloud-storage) (2.7.2)\n",
            "Requirement already satisfied: requests<3.0.0dev,>=2.18.0 in /usr/local/lib/python3.10/dist-packages (from google-cloud-storage) (2.32.3)\n",
            "Requirement already satisfied: googleapis-common-protos<2.0.dev0,>=1.56.2 in /usr/local/lib/python3.10/dist-packages (from google-api-core!=2.0.*,!=2.1.*,!=2.2.*,!=2.3.*,!=2.4.*,!=2.5.*,!=2.6.*,!=2.7.*,<3.0.0dev,>=1.34.1->google-api-core[grpc]!=2.0.*,!=2.1.*,!=2.2.*,!=2.3.*,!=2.4.*,!=2.5.*,!=2.6.*,!=2.7.*,<3.0.0dev,>=1.34.1->google-cloud-aiplatform) (1.65.0)\n",
            "Requirement already satisfied: grpcio<2.0dev,>=1.33.2 in /usr/local/lib/python3.10/dist-packages (from google-api-core[grpc]!=2.0.*,!=2.1.*,!=2.2.*,!=2.3.*,!=2.4.*,!=2.5.*,!=2.6.*,!=2.7.*,<3.0.0dev,>=1.34.1->google-cloud-aiplatform) (1.64.1)\n",
            "Requirement already satisfied: grpcio-status<2.0.dev0,>=1.33.2 in /usr/local/lib/python3.10/dist-packages (from google-api-core[grpc]!=2.0.*,!=2.1.*,!=2.2.*,!=2.3.*,!=2.4.*,!=2.5.*,!=2.6.*,!=2.7.*,<3.0.0dev,>=1.34.1->google-cloud-aiplatform) (1.48.2)\n",
            "Requirement already satisfied: cachetools<6.0,>=2.0.0 in /usr/local/lib/python3.10/dist-packages (from google-auth<3.0.0dev,>=2.14.1->google-cloud-aiplatform) (5.5.0)\n",
            "Requirement already satisfied: pyasn1-modules>=0.2.1 in /usr/local/lib/python3.10/dist-packages (from google-auth<3.0.0dev,>=2.14.1->google-cloud-aiplatform) (0.4.0)\n",
            "Requirement already satisfied: rsa<5,>=3.1.4 in /usr/local/lib/python3.10/dist-packages (from google-auth<3.0.0dev,>=2.14.1->google-cloud-aiplatform) (4.9)\n",
            "Requirement already satisfied: python-dateutil<3.0dev,>=2.7.2 in /usr/local/lib/python3.10/dist-packages (from google-cloud-bigquery!=3.20.0,<4.0.0dev,>=1.15.0->google-cloud-aiplatform) (2.8.2)\n",
            "Requirement already satisfied: grpc-google-iam-v1<1.0.0dev,>=0.12.4 in /usr/local/lib/python3.10/dist-packages (from google-cloud-resource-manager<3.0.0dev,>=1.3.3->google-cloud-aiplatform) (0.13.1)\n",
            "Requirement already satisfied: google-crc32c<2.0dev,>=1.0 in /usr/local/lib/python3.10/dist-packages (from google-resumable-media>=2.3.2->google-cloud-storage) (1.5.0)\n",
            "Requirement already satisfied: typing-extensions>=4.2.0 in /usr/local/lib/python3.10/dist-packages (from pydantic<3->google-cloud-aiplatform) (4.12.2)\n",
            "Requirement already satisfied: charset-normalizer<4,>=2 in /usr/local/lib/python3.10/dist-packages (from requests<3.0.0dev,>=2.18.0->google-cloud-storage) (3.3.2)\n",
            "Requirement already satisfied: idna<4,>=2.5 in /usr/local/lib/python3.10/dist-packages (from requests<3.0.0dev,>=2.18.0->google-cloud-storage) (3.8)\n",
            "Requirement already satisfied: urllib3<3,>=1.21.1 in /usr/local/lib/python3.10/dist-packages (from requests<3.0.0dev,>=2.18.0->google-cloud-storage) (2.0.7)\n",
            "Requirement already satisfied: certifi>=2017.4.17 in /usr/local/lib/python3.10/dist-packages (from requests<3.0.0dev,>=2.18.0->google-cloud-storage) (2024.8.30)\n",
            "Requirement already satisfied: numpy<3,>=1.14 in /usr/local/lib/python3.10/dist-packages (from shapely<3.0.0dev->google-cloud-aiplatform) (1.26.4)\n",
            "Requirement already satisfied: pyasn1<0.7.0,>=0.4.6 in /usr/local/lib/python3.10/dist-packages (from pyasn1-modules>=0.2.1->google-auth<3.0.0dev,>=2.14.1->google-cloud-aiplatform) (0.6.0)\n",
            "Requirement already satisfied: six>=1.5 in /usr/local/lib/python3.10/dist-packages (from python-dateutil<3.0dev,>=2.7.2->google-cloud-bigquery!=3.20.0,<4.0.0dev,>=1.15.0->google-cloud-aiplatform) (1.16.0)\n"
          ]
        }
      ]
    },
    {
      "cell_type": "code",
      "source": [
        "# prompt: connect to a model's endpoint\n",
        "\n",
        "from google.cloud import aiplatform\n",
        "\n",
        "# TODO(developer): Replace these values\n",
        "ENDPOINT_NAME = \"projects/{Project_ID}/locations/{Region}/endpoints/{Endpoint_ID}\"\n",
        "\n",
        "endpoint = aiplatform.Endpoint(endpoint_name=ENDPOINT_NAME)"
      ],
      "metadata": {
        "id": "AE5Oq9jaLu6L",
        "executionInfo": {
          "status": "ok",
          "timestamp": 1726411345991,
          "user_tz": -180,
          "elapsed": 3,
          "user": {
            "displayName": "",
            "userId": ""
          }
        }
      },
      "id": "AE5Oq9jaLu6L",
      "execution_count": 64,
      "outputs": []
    },
    {
      "cell_type": "code",
      "id": "p27da0LJw6ENDJEOAKewMAzC",
      "metadata": {
        "tags": [],
        "id": "p27da0LJw6ENDJEOAKewMAzC",
        "colab": {
          "base_uri": "https://localhost:8080/"
        },
        "executionInfo": {
          "status": "ok",
          "timestamp": 1726411948205,
          "user_tz": -180,
          "elapsed": 1474,
          "user": {
            "displayName": "",
            "userId": ""
          }
        },
        "outputId": "88376ff2-5081-4dd3-92ed-75291d6ccabd"
      },
      "source": [
        "# prompt: send a prompt to test the model\n",
        "\n",
        "response = endpoint.predict(\n",
        "    [\n",
        "        {\n",
        "            \"prompt\": \"ما هي عاصمة السعودية\"\n",
        "        }\n",
        "    ]\n",
        ")\n",
        "print(response.predictions[0])"
      ],
      "execution_count": 81,
      "outputs": [
        {
          "output_type": "stream",
          "name": "stdout",
          "text": [
            "Prompt:\n",
            "ما هي عاصمة السعودية\n",
            "Output:\n",
            " ويلك على الؽاى\n"
          ]
        }
      ]
    },
    {
      "cell_type": "code",
      "source": [
        "import PyPDF2\n",
        "\n",
        "def extract_text_from_pdf(pdf_path):\n",
        "    \"\"\" Extracts text from a PDF file.\"\"\"\n",
        "    with open(pdf_path, 'rb') as file:\n",
        "        reader = PyPDF2.PdfReader(file)\n",
        "        text = ''\n",
        "        for page in reader.pages:\n",
        "            text += page.extract_text()\n",
        "    return text\n",
        "\n",
        "# Example usage:\n",
        "pdf_path = 'File_Name.pdf'\n",
        "pdf_text = extract_text_from_pdf(pdf_path)"
      ],
      "metadata": {
        "id": "GClhnV_FRcXu",
        "executionInfo": {
          "status": "ok",
          "timestamp": 1726411583937,
          "user_tz": -180,
          "elapsed": 910,
          "user": {
            "displayName": "",
            "userId": ""
          }
        }
      },
      "id": "GClhnV_FRcXu",
      "execution_count": 78,
      "outputs": []
    },
    {
      "cell_type": "code",
      "source": [
        "import re\n",
        "\n",
        "def clean_text(text):\n",
        "    # Remove extra whitespace, line breaks, etc.\n",
        "    text = re.sub(r'\\s+', ' ', text)\n",
        "    return text.strip()\n",
        "\n",
        "pdf_text = clean_text(pdf_text)\n",
        "print(f\"Cleaned text: {pdf_text}\")"
      ],
      "metadata": {
        "colab": {
          "base_uri": "https://localhost:8080/"
        },
        "id": "ZFH2uQC5IMXC",
        "executionInfo": {
          "status": "ok",
          "timestamp": 1726411585585,
          "user_tz": -180,
          "elapsed": 6,
          "user": {
            "displayName": "",
            "userId": ""
          }
        },
        "outputId": "6c63e672-b02b-48fe-eee1-fd4ef530453d"
      },
      "id": "ZFH2uQC5IMXC",
      "execution_count": 79,
      "outputs": [
        {
          "output_type": "stream",
          "name": "stdout",
          "text": [
            "Cleaned text: 1 of 2 Juan Jose Carin Data Scientist Mountain View , CA 94041 650-336-4590 | juanjose.carin@gmail.com linkedin.com/in/juanjosecarin | juanjocarin.github.io Professional Profile Passionate abo ut data analysis and experiments, mainly focused on user behavior, experience , and engagement , with a solid background in data science and statistics, and extensive experience using data insights to drive business growth. Education 2016 University of California, Berkeley Master of Information and Data Science GPA: 3.93 Relevant courses : • Machine Learning • Machine Learning at Scale • Storing and Retrieving Data • Field Experiments • Applied Regression and Time Series Analysis • Exploring and Analyzing Data • Data Visualization and Communication • Research Design and Applications for Data Analysis 2014 Universidad Politécnica de Madrid M.S. in Statistical and Computational Information Processing GPA: 3.69 Relevant courses : • Data Mining • Multivariate Analysis • Time Series • Neural Networks and Statistical Learning • Regression and Prediction Methods • Optimization Techniques • Monte Carlo Techniques • Numerical Methods in Finance • Stochastic Models in Finance • Bayesian Networks 2005 Universidad Politécnica de Madrid M.S. in Telecommunication Engineering GPA: 3.03 Focus Area: Radio communication systems (radar and mobile). Fellowship: First year at University, due to Honors obtained last year at high school. Skills Programming / Statistics Big Data Visual ization Others Proficient: R, Python , SQL Hadoop , Hive , MrJob Tableau Git, AWS Intermediate: SPSS , SAS, Matlab Spark , Storm Bash Basic: EViews , Demetra+ D3.js Gephi , Neo4j , QGIS Experience DATA SCIENCE Jan. 2016 – Mar. 2016 Data Scientist CONENTO Madrid, Spain (working remotely) • Designed and implemented the ETL pipeline for a predictive model of traffic on the main roads in eastern Spain (a project for the Spanish government) . • Automated scripts in R to extract, transform, clean (incl. anomaly detection), and load into MySQL data from multiple data sources : road traffic sensors, accidents , road works, weather . Jun. 2014 – Sep. 2014 Data Scientist CONENTO Madrid, Spain • Designed an experiment for Google Spain (conducted in October 2014) to measure the impact of YouTube ads on the sales of a car manufacturer 's dealer network. • A matched -pair, cluster -randomized design , which involved selecting the test and control groups from a sample of 50+ cities in Spain (where geo-targeted ads were possible) based on their sales - wise similarity over time, using wavelets (and R). MANAGEM ENT – SALES (Electri cal Eng. ) Feb. 2009 – Aug. 2013 Head of Sales, Spain & Portugal – Test &Measurement dept. YOKOGAWA Madrid, Spain • Applied analysis of sales and market trends to decide the direction of the department. • Led a team of 7 people . 2 of 2 Juan Jose Carin Data Scientist Mountain View , CA 94041 650-336-4590 | juanjose.carin@gmail.com linkedin.com/in/juanjosecarin | juanjocarin.github.io • Increased revenue by 6.3%, gross profit by 4.2%, and operating income by 146%, and achieved a 30% ratio of new customers (3x growth), by entering new markets and improvi ng customer service and training . SALES (Electri cal Eng. & Telecom. ) Apr. 2008 – Jan. 2009 Sales Engineer – Test & Meas urement dept. YOKOGAWA Madrid, Spain • Promoted to head of sales after 5 months leading the sales team. Sep. 2004 – Mar. 2008 Sales & Application Engineer AYSCOM Madrid, Spain • Exceeded sales target every year from 2005 to 2007 (achieved 60% of the target in the first 3 months of 2008 ). EDUCATION Jul. 2002 – Jun. 2004 Tutor of Differential & Integral Calculus, Physics, and Digital Electronic Circuits ACADEMIA UNIVERSITARIA Madrid, Spain • Highest -rated professor in student surveys, in 4 of the 6 terms. • Increased ratio of stud ents passing the course by 25%. Projects See juanjocarin.github.io for additional information 2016 SmartCam Capstone Python , OpenCV , TensorFlow , AWS (EC2, S3, DynamoDB ) A scalable cloud -based video monitoring system that features motion detection, face counting, and image recognition. 2015 Implementation of the Shortest Path and PageRank algorithms with the Wikipedia graph dataset Machine Learning at Scale Hadoop MrJob, Python , AWS EC2, AWS S3 Using a graph dataset of almost half a million nodes. 2015 Forest cover type prediction Machine Learning Python , Scikit -Learn , Matplotlib A Kaggle competition : predictions of the predominant kind of tree cover, from strictly cartographic variables such as elevation and soil type, using random forests, SVMs, kNNs, Naive Bayes, Gradient Descent, GMMs , … 2015 Redefining the job search process Storing and Retrieving Data Hadoop HDFS , Hive , Spark , Python , AWS EC2, Tableau A pipeline that combines data from Indeed API and the U.S. Census Bureau to select the best locations for data scientists based on the number of job postings, housing cost, etc. 2015 A fresh perspective on Citi Bike Data Visualization and Communication Tableau , SQLite An interactive website to visualize NYC Citi Bike bicycle sharing service. 2015 Investigating the effect of competition on the ability to solve arithmetic problems Field Experiments R A randomized controlled trial in which 300+ participants were assigned to a control group or one of two test groups to evaluate the effect of competition (being compared to no one or someone better or worse). 2014 Prediction of customer churn for a mobile network carrier Data Mining SAS Predictions from a sample of 45,000+ customers, using tree decisions, logistic regression , and neural networks. 2014 Different models of Harmonized Index of Consumer Prices (HICP) in Spain Time Series SPSS , Demetra+ Forecasts based on exponential smoothing, ARIMA, and transfer function (using petrol price as independent variable) models.\n"
          ]
        }
      ]
    },
    {
      "cell_type": "code",
      "source": [
        "# pdf_text = \"summarize the following text: \" + pdf_text\n",
        "# print(pdf_text)"
      ],
      "metadata": {
        "colab": {
          "base_uri": "https://localhost:8080/"
        },
        "id": "1PTMHiB_Tm4j",
        "executionInfo": {
          "status": "ok",
          "timestamp": 1726411402219,
          "user_tz": -180,
          "elapsed": 465,
          "user": {
            "displayName": "",
            "userId": ""
          }
        },
        "outputId": "30549ee1-cdcc-48d1-8c23-06909e050737"
      },
      "id": "1PTMHiB_Tm4j",
      "execution_count": 68,
      "outputs": [
        {
          "output_type": "stream",
          "name": "stdout",
          "text": [
            "summarize the following text: 1 of 2 Juan Jose Carin Data Scientist Mountain View , CA 94041 650-336-4590 | juanjose.carin@gmail.com linkedin.com/in/juanjosecarin | juanjocarin.github.io Professional Profile Passionate abo ut data analysis and experiments, mainly focused on user behavior, experience , and engagement , with a solid background in data science and statistics, and extensive experience using data insights to drive business growth. Education 2016 University of California, Berkeley Master of Information and Data Science GPA: 3.93 Relevant courses : • Machine Learning • Machine Learning at Scale • Storing and Retrieving Data • Field Experiments • Applied Regression and Time Series Analysis • Exploring and Analyzing Data • Data Visualization and Communication • Research Design and Applications for Data Analysis 2014 Universidad Politécnica de Madrid M.S. in Statistical and Computational Information Processing GPA: 3.69 Relevant courses : • Data Mining • Multivariate Analysis • Time Series • Neural Networks and Statistical Learning • Regression and Prediction Methods • Optimization Techniques • Monte Carlo Techniques • Numerical Methods in Finance • Stochastic Models in Finance • Bayesian Networks 2005 Universidad Politécnica de Madrid M.S. in Telecommunication Engineering GPA: 3.03 Focus Area: Radio communication systems (radar and mobile). Fellowship: First year at University, due to Honors obtained last year at high school. Skills Programming / Statistics Big Data Visual ization Others Proficient: R, Python , SQL Hadoop , Hive , MrJob Tableau Git, AWS Intermediate: SPSS , SAS, Matlab Spark , Storm Bash Basic: EViews , Demetra+ D3.js Gephi , Neo4j , QGIS Experience DATA SCIENCE Jan. 2016 – Mar. 2016 Data Scientist CONENTO Madrid, Spain (working remotely) • Designed and implemented the ETL pipeline for a predictive model of traffic on the main roads in eastern Spain (a project for the Spanish government) . • Automated scripts in R to extract, transform, clean (incl. anomaly detection), and load into MySQL data from multiple data sources : road traffic sensors, accidents , road works, weather . Jun. 2014 – Sep. 2014 Data Scientist CONENTO Madrid, Spain • Designed an experiment for Google Spain (conducted in October 2014) to measure the impact of YouTube ads on the sales of a car manufacturer 's dealer network. • A matched -pair, cluster -randomized design , which involved selecting the test and control groups from a sample of 50+ cities in Spain (where geo-targeted ads were possible) based on their sales - wise similarity over time, using wavelets (and R). MANAGEM ENT – SALES (Electri cal Eng. ) Feb. 2009 – Aug. 2013 Head of Sales, Spain & Portugal – Test &Measurement dept. YOKOGAWA Madrid, Spain • Applied analysis of sales and market trends to decide the direction of the department. • Led a team of 7 people . 2 of 2 Juan Jose Carin Data Scientist Mountain View , CA 94041 650-336-4590 | juanjose.carin@gmail.com linkedin.com/in/juanjosecarin | juanjocarin.github.io • Increased revenue by 6.3%, gross profit by 4.2%, and operating income by 146%, and achieved a 30% ratio of new customers (3x growth), by entering new markets and improvi ng customer service and training . SALES (Electri cal Eng. & Telecom. ) Apr. 2008 – Jan. 2009 Sales Engineer – Test & Meas urement dept. YOKOGAWA Madrid, Spain • Promoted to head of sales after 5 months leading the sales team. Sep. 2004 – Mar. 2008 Sales & Application Engineer AYSCOM Madrid, Spain • Exceeded sales target every year from 2005 to 2007 (achieved 60% of the target in the first 3 months of 2008 ). EDUCATION Jul. 2002 – Jun. 2004 Tutor of Differential & Integral Calculus, Physics, and Digital Electronic Circuits ACADEMIA UNIVERSITARIA Madrid, Spain • Highest -rated professor in student surveys, in 4 of the 6 terms. • Increased ratio of stud ents passing the course by 25%. Projects See juanjocarin.github.io for additional information 2016 SmartCam Capstone Python , OpenCV , TensorFlow , AWS (EC2, S3, DynamoDB ) A scalable cloud -based video monitoring system that features motion detection, face counting, and image recognition. 2015 Implementation of the Shortest Path and PageRank algorithms with the Wikipedia graph dataset Machine Learning at Scale Hadoop MrJob, Python , AWS EC2, AWS S3 Using a graph dataset of almost half a million nodes. 2015 Forest cover type prediction Machine Learning Python , Scikit -Learn , Matplotlib A Kaggle competition : predictions of the predominant kind of tree cover, from strictly cartographic variables such as elevation and soil type, using random forests, SVMs, kNNs, Naive Bayes, Gradient Descent, GMMs , … 2015 Redefining the job search process Storing and Retrieving Data Hadoop HDFS , Hive , Spark , Python , AWS EC2, Tableau A pipeline that combines data from Indeed API and the U.S. Census Bureau to select the best locations for data scientists based on the number of job postings, housing cost, etc. 2015 A fresh perspective on Citi Bike Data Visualization and Communication Tableau , SQLite An interactive website to visualize NYC Citi Bike bicycle sharing service. 2015 Investigating the effect of competition on the ability to solve arithmetic problems Field Experiments R A randomized controlled trial in which 300+ participants were assigned to a control group or one of two test groups to evaluate the effect of competition (being compared to no one or someone better or worse). 2014 Prediction of customer churn for a mobile network carrier Data Mining SAS Predictions from a sample of 45,000+ customers, using tree decisions, logistic regression , and neural networks. 2014 Different models of Harmonized Index of Consumer Prices (HICP) in Spain Time Series SPSS , Demetra+ Forecasts based on exponential smoothing, ARIMA, and transfer function (using petrol price as independent variable) models.\n"
          ]
        }
      ]
    },
    {
      "cell_type": "code",
      "source": [
        "from google.cloud import aiplatform\n",
        "\n",
        "# Initialize Vertex AI client\n",
        "# aiplatform.init(project=PROJECT_ID, location=REGION) #TEST\n",
        "\n",
        "\n",
        "# Prepare the input data, using the extracted text in the 'prompt' field\n",
        "instances = [{'prompt': \"summarize the following text: \"+pdf_text}]\n",
        "\n",
        "# Call the Llama model with the text input\n",
        "response = endpoint.predict(instances=instances)\n",
        "\n",
        "# Print the prediction result\n",
        "print(response.predictions[0])"
      ],
      "metadata": {
        "colab": {
          "base_uri": "https://localhost:8080/"
        },
        "id": "5knD1fnwQkfy",
        "executionInfo": {
          "status": "ok",
          "timestamp": 1726411600855,
          "user_tz": -180,
          "elapsed": 1818,
          "user": {
            "displayName": "",
            "userId": ""
          }
        },
        "outputId": "9cd4f5bb-a1a3-4f01-94ea-2fe43897725a"
      },
      "id": "5knD1fnwQkfy",
      "execution_count": 80,
      "outputs": [
        {
          "output_type": "stream",
          "name": "stdout",
          "text": [
            "Prompt:\n",
            "summarize the following text: 1 of 2 Juan Jose Carin Data Scientist Mountain View , CA 94041 650-336-4590 | juanjose.carin@gmail.com linkedin.com/in/juanjosecarin | juanjocarin.github.io Professional Profile Passionate abo ut data analysis and experiments, mainly focused on user behavior, experience , and engagement , with a solid background in data science and statistics, and extensive experience using data insights to drive business growth. Education 2016 University of California, Berkeley Master of Information and Data Science GPA: 3.93 Relevant courses : • Machine Learning • Machine Learning at Scale • Storing and Retrieving Data • Field Experiments • Applied Regression and Time Series Analysis • Exploring and Analyzing Data • Data Visualization and Communication • Research Design and Applications for Data Analysis 2014 Universidad Politécnica de Madrid M.S. in Statistical and Computational Information Processing GPA: 3.69 Relevant courses : • Data Mining • Multivariate Analysis • Time Series • Neural Networks and Statistical Learning • Regression and Prediction Methods • Optimization Techniques • Monte Carlo Techniques • Numerical Methods in Finance • Stochastic Models in Finance • Bayesian Networks 2005 Universidad Politécnica de Madrid M.S. in Telecommunication Engineering GPA: 3.03 Focus Area: Radio communication systems (radar and mobile). Fellowship: First year at University, due to Honors obtained last year at high school. Skills Programming / Statistics Big Data Visual ization Others Proficient: R, Python , SQL Hadoop , Hive , MrJob Tableau Git, AWS Intermediate: SPSS , SAS, Matlab Spark , Storm Bash Basic: EViews , Demetra+ D3.js Gephi , Neo4j , QGIS Experience DATA SCIENCE Jan. 2016 – Mar. 2016 Data Scientist CONENTO Madrid, Spain (working remotely) • Designed and implemented the ETL pipeline for a predictive model of traffic on the main roads in eastern Spain (a project for the Spanish government) . • Automated scripts in R to extract, transform, clean (incl. anomaly detection), and load into MySQL data from multiple data sources : road traffic sensors, accidents , road works, weather . Jun. 2014 – Sep. 2014 Data Scientist CONENTO Madrid, Spain • Designed an experiment for Google Spain (conducted in October 2014) to measure the impact of YouTube ads on the sales of a car manufacturer 's dealer network. • A matched -pair, cluster -randomized design , which involved selecting the test and control groups from a sample of 50+ cities in Spain (where geo-targeted ads were possible) based on their sales - wise similarity over time, using wavelets (and R). MANAGEM ENT – SALES (Electri cal Eng. ) Feb. 2009 – Aug. 2013 Head of Sales, Spain & Portugal – Test &Measurement dept. YOKOGAWA Madrid, Spain • Applied analysis of sales and market trends to decide the direction of the department. • Led a team of 7 people . 2 of 2 Juan Jose Carin Data Scientist Mountain View , CA 94041 650-336-4590 | juanjose.carin@gmail.com linkedin.com/in/juanjosecarin | juanjocarin.github.io • Increased revenue by 6.3%, gross profit by 4.2%, and operating income by 146%, and achieved a 30% ratio of new customers (3x growth), by entering new markets and improvi ng customer service and training . SALES (Electri cal Eng. & Telecom. ) Apr. 2008 – Jan. 2009 Sales Engineer – Test & Meas urement dept. YOKOGAWA Madrid, Spain • Promoted to head of sales after 5 months leading the sales team. Sep. 2004 – Mar. 2008 Sales & Application Engineer AYSCOM Madrid, Spain • Exceeded sales target every year from 2005 to 2007 (achieved 60% of the target in the first 3 months of 2008 ). EDUCATION Jul. 2002 – Jun. 2004 Tutor of Differential & Integral Calculus, Physics, and Digital Electronic Circuits ACADEMIA UNIVERSITARIA Madrid, Spain • Highest -rated professor in student surveys, in 4 of the 6 terms. • Increased ratio of stud ents passing the course by 25%. Projects See juanjocarin.github.io for additional information 2016 SmartCam Capstone Python , OpenCV , TensorFlow , AWS (EC2, S3, DynamoDB ) A scalable cloud -based video monitoring system that features motion detection, face counting, and image recognition. 2015 Implementation of the Shortest Path and PageRank algorithms with the Wikipedia graph dataset Machine Learning at Scale Hadoop MrJob, Python , AWS EC2, AWS S3 Using a graph dataset of almost half a million nodes. 2015 Forest cover type prediction Machine Learning Python , Scikit -Learn , Matplotlib A Kaggle competition : predictions of the predominant kind of tree cover, from strictly cartographic variables such as elevation and soil type, using random forests, SVMs, kNNs, Naive Bayes, Gradient Descent, GMMs , … 2015 Redefining the job search process Storing and Retrieving Data Hadoop HDFS , Hive , Spark , Python , AWS EC2, Tableau A pipeline that combines data from Indeed API and the U.S. Census Bureau to select the best locations for data scientists based on the number of job postings, housing cost, etc. 2015 A fresh perspective on Citi Bike Data Visualization and Communication Tableau , SQLite An interactive website to visualize NYC Citi Bike bicycle sharing service. 2015 Investigating the effect of competition on the ability to solve arithmetic problems Field Experiments R A randomized controlled trial in which 300+ participants were assigned to a control group or one of two test groups to evaluate the effect of competition (being compared to no one or someone better or worse). 2014 Prediction of customer churn for a mobile network carrier Data Mining SAS Predictions from a sample of 45,000+ customers, using tree decisions, logistic regression , and neural networks. 2014 Different models of Harmonized Index of Consumer Prices (HICP) in Spain Time Series SPSS , Demetra+ Forecasts based on exponential smoothing, ARIMA, and transfer function (using petrol price as independent variable) models.\n",
            "Output:\n",
            " 1909 - 2004 (Final year thesis) Digital ge\n"
          ]
        }
      ]
    },
    {
      "cell_type": "code",
      "source": [
        "# prompt: stop an endpoint in vertex ai\n",
        "\n",
        "endpoint.undeploy_all()\n"
      ],
      "metadata": {
        "colab": {
          "base_uri": "https://localhost:8080/"
        },
        "id": "DwxKn4Y7NOZU",
        "executionInfo": {
          "status": "ok",
          "timestamp": 1726400802150,
          "user_tz": -180,
          "elapsed": 543,
          "user": {
            "displayName": "",
            "userId": ""
          }
        },
        "outputId": "36f688af-347d-46d5-ccf3-c88ad8cb984b",
        "collapsed": true
      },
      "id": "DwxKn4Y7NOZU",
      "execution_count": 53,
      "outputs": [
        {
          "output_type": "stream",
          "name": "stderr",
          "text": [
            "INFO:google.cloud.aiplatform.models:Undeploying Endpoint model: projects/981345448178/locations/us-central1/endpoints/2620884976408723456\n",
            "INFO:google.cloud.aiplatform.models:Undeploy Endpoint model backing LRO: projects/981345448178/locations/us-central1/endpoints/2620884976408723456/operations/6376467223992598528\n",
            "INFO:google.cloud.aiplatform.models:Endpoint model undeployed. Resource name: projects/981345448178/locations/us-central1/endpoints/2620884976408723456\n"
          ]
        },
        {
          "output_type": "execute_result",
          "data": {
            "text/plain": [
              "<google.cloud.aiplatform.models.Endpoint object at 0x7c84d4618af0> \n",
              "resource name: projects/981345448178/locations/us-central1/endpoints/2620884976408723456"
            ]
          },
          "metadata": {},
          "execution_count": 53
        }
      ]
    },
    {
      "cell_type": "code",
      "source": [],
      "metadata": {
        "id": "ZZk70L0kGE3Z"
      },
      "id": "ZZk70L0kGE3Z",
      "execution_count": null,
      "outputs": []
    }
  ],
  "metadata": {
    "kernelspec": {
      "display_name": "Python 3",
      "language": "python",
      "name": "python3"
    },
    "language_info": {
      "codemirror_mode": {
        "name": "ipython",
        "version": 3
      },
      "file_extension": ".py",
      "mimetype": "text/x-python",
      "name": "python",
      "nbconvert_exporter": "python",
      "pygments_lexer": "ipython3",
      "version": "3.10.10"
    },
    "colab": {
      "provenance": [],
      "name": "sultanasg13 (Sep 12, 2024, 3:20:20 PM)"
    }
  },
  "nbformat": 4,
  "nbformat_minor": 5
}