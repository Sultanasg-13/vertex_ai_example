{
  "cells": [
    {
      "cell_type": "code",
      "source": [
        "!pip install PyPDF2 google-cloud-aiplatform google-cloud-storage"
      ],
      "metadata": {
        "id": "Uqj3JnwjHqvO"
      },
      "id": "Uqj3JnwjHqvO",
      "execution_count": null,
      "outputs": []
    },
    {
      "cell_type": "code",
      "source": [
        "# prompt: connect to a model's endpoint\n",
        "\n",
        "from google.cloud import aiplatform\n",
        "\n",
        "# TODO(developer): Replace these values\n",
        "ENDPOINT_NAME = \"projects/{Project_ID}/locations/{Region}/endpoints/{Endpoint_ID}\"\n",
        "\n",
        "endpoint = aiplatform.Endpoint(endpoint_name=ENDPOINT_NAME)"
      ],
      "metadata": {
        "id": "AE5Oq9jaLu6L",
        "executionInfo": {
          "status": "ok",
          "timestamp": 1726411345991,
          "user_tz": -180,
          "elapsed": 3,
          "user": {
            "displayName": "",
            "userId": ""
          }
        }
      },
      "id": "AE5Oq9jaLu6L",
      "execution_count": 64,
      "outputs": []
    },
    {
      "cell_type": "code",
      "id": "p27da0LJw6ENDJEOAKewMAzC",
      "metadata": {
        "tags": [],
        "id": "p27da0LJw6ENDJEOAKewMAzC"
      },
      "source": [
        "# prompt: send a prompt to test the model\n",
        "\n",
        "response = endpoint.predict(\n",
        "    [\n",
        "        {\n",
        "            \"prompt\": \"ما هي عاصمة السعودية\"\n",
        "        }\n",
        "    ]\n",
        ")\n",
        "print(response.predictions[0])"
      ],
      "execution_count": null,
      "outputs": []
    },
    {
      "cell_type": "code",
      "source": [
        "import PyPDF2\n",
        "\n",
        "def extract_text_from_pdf(pdf_path):\n",
        "    \"\"\" Extracts text from a PDF file.\"\"\"\n",
        "    with open(pdf_path, 'rb') as file:\n",
        "        reader = PyPDF2.PdfReader(file)\n",
        "        text = ''\n",
        "        for page in reader.pages:\n",
        "            text += page.extract_text()\n",
        "    return text\n",
        "\n",
        "# Example usage:\n",
        "pdf_path = 'File_Name.pdf'\n",
        "pdf_text = extract_text_from_pdf(pdf_path)"
      ],
      "metadata": {
        "id": "GClhnV_FRcXu",
        "executionInfo": {
          "status": "ok",
          "timestamp": 1726411583937,
          "user_tz": -180,
          "elapsed": 910,
          "user": {
            "displayName": "",
            "userId": ""
          }
        }
      },
      "id": "GClhnV_FRcXu",
      "execution_count": 78,
      "outputs": []
    },
    {
      "cell_type": "code",
      "source": [
        "import re\n",
        "\n",
        "def clean_text(text):\n",
        "    # Remove extra whitespace, line breaks, etc.\n",
        "    text = re.sub(r'\\s+', ' ', text)\n",
        "    return text.strip()\n",
        "\n",
        "pdf_text = clean_text(pdf_text)\n",
        "print(f\"Cleaned text: {pdf_text}\")"
      ],
      "metadata": {
        "id": "ZFH2uQC5IMXC"
      },
      "id": "ZFH2uQC5IMXC",
      "execution_count": null,
      "outputs": []
    },
    {
      "cell_type": "code",
      "source": [
        "# Prepare the input data, using the extracted text in the 'prompt' field\n",
        "instances = [{'prompt': \"summarize the following text: \"+pdf_text}]\n",
        "\n",
        "# Call the Llama model with the text input\n",
        "response = endpoint.predict(instances=instances)\n",
        "\n",
        "# Print the prediction result\n",
        "print(response.predictions[0])"
      ],
      "metadata": {
        "id": "5knD1fnwQkfy"
      },
      "id": "5knD1fnwQkfy",
      "execution_count": null,
      "outputs": []
    },
    {
      "cell_type": "code",
      "source": [
        "# prompt: stop an endpoint in vertex ai\n",
        "\n",
        "endpoint.undeploy_all()\n"
      ],
      "metadata": {
        "id": "DwxKn4Y7NOZU",
        "collapsed": true
      },
      "id": "DwxKn4Y7NOZU",
      "execution_count": null,
      "outputs": []
    },
    {
      "cell_type": "code",
      "source": [],
      "metadata": {
        "id": "ZZk70L0kGE3Z"
      },
      "id": "ZZk70L0kGE3Z",
      "execution_count": null,
      "outputs": []
    }
  ],
  "metadata": {
    "kernelspec": {
      "display_name": "Python 3",
      "language": "python",
      "name": "python3"
    },
    "language_info": {
      "codemirror_mode": {
        "name": "ipython",
        "version": 3
      },
      "file_extension": ".py",
      "mimetype": "text/x-python",
      "name": "python",
      "nbconvert_exporter": "python",
      "pygments_lexer": "ipython3",
      "version": "3.10.10"
    },
    "colab": {
      "provenance": [],
      "name": "sultanasg13 (Sep 12, 2024, 3:20:20 PM)"
    }
  },
  "nbformat": 4,
  "nbformat_minor": 5
}